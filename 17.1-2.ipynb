{
 "cells": [
  {
   "cell_type": "code",
   "execution_count": 3,
   "id": "eaa26b6e",
   "metadata": {},
   "outputs": [
    {
     "name": "stdout",
     "output_type": "stream",
     "text": [
      "0135404673          Intro to Python for CS and DS1                   \n",
      "0132151006          Internet & WWW How to Program5                   \n",
      "0134743350          Java How to Program 11                  \n",
      "0133976890          C How to Program    8                   \n",
      "0133406954          Visual Basic 2012 How to Program6                   \n",
      "0134601548          Visual C# How to Program6                   \n",
      "0136151574          Visual C++ How to Program2                   \n",
      "0134448235          C++ How to Program  10                  \n",
      "0134444302          Android How to Program3                   \n",
      "0134289366          Android 6 for Programmers3                   \n"
     ]
    }
   ],
   "source": [
    "import sqlite3\n",
    "# Open the books database\n",
    "conn = sqlite3.connect('books.db')\n",
    "# Create a cursor\n",
    "cursor = conn.cursor()\n",
    "# Execute a query to select all data from the titles table\n",
    "cursor.execute(\"SELECT * FROM titles\")\n",
    "# Get the metadata from the description attribute\n",
    "description = cursor.description\n",
    "# Get the data from the fetchall method\n",
    "data = cursor.fetchall()\n",
    "# Print the results in a tabular format\n",
    "for row in data:\n",
    "    print(\"%-20s%-20s%-20s\" % (row[0], row[1], row[2]))"
   ]
  },
  {
   "cell_type": "code",
   "execution_count": 7,
   "id": "33a983f2",
   "metadata": {},
   "outputs": [
    {
     "name": "stdout",
     "output_type": "stream",
     "text": [
      "Wald\n",
      "Quirk\n",
      "Deitel\n",
      "Deitel\n",
      "Deitel\n"
     ]
    }
   ],
   "source": [
    "#17.1 A\n",
    "# Import the necessary libraries\n",
    "import sqlite3\n",
    "\n",
    "# Connect to the database\n",
    "conn = sqlite3.connect('books.db')\n",
    "\n",
    "# Define the query\n",
    "query = 'SELECT last FROM authors ORDER BY last DESC'\n",
    "\n",
    "# Execute the query and retrieve the results\n",
    "results = conn.execute(query)\n",
    "\n",
    "# Loop through the results and print the last names\n",
    "for row in results:\n",
    "  print(row[0])\n",
    "\n",
    "# Close the connection to the database\n",
    "conn.close()"
   ]
  },
  {
   "cell_type": "code",
   "execution_count": 8,
   "id": "2bef33d7",
   "metadata": {},
   "outputs": [
    {
     "name": "stdout",
     "output_type": "stream",
     "text": [
      "Android 6 for Programmers\n",
      "Android How to Program\n",
      "C How to Program\n",
      "C++ How to Program\n",
      "Internet & WWW How to Program\n",
      "Intro to Python for CS and DS\n",
      "Java How to Program\n",
      "Visual Basic 2012 How to Program\n",
      "Visual C# How to Program\n",
      "Visual C++ How to Program\n"
     ]
    }
   ],
   "source": [
    "#17.1 B\n",
    "# Import the necessary libraries\n",
    "import sqlite3\n",
    "\n",
    "# Connect to the database\n",
    "conn = sqlite3.connect('books.db')\n",
    "\n",
    "# Define the query\n",
    "query = 'SELECT title FROM titles ORDER BY title ASC'\n",
    "\n",
    "# Execute the query and retrieve the results\n",
    "results = conn.execute(query)\n",
    "\n",
    "# Loop through the results and print the book titles\n",
    "for row in results:\n",
    "  print(row[0])\n",
    "\n",
    "# Close the connection to the database\n",
    "conn.close()#"
   ]
  },
  {
   "cell_type": "code",
   "execution_count": 35,
   "id": "d47a52d2",
   "metadata": {},
   "outputs": [
    {
     "ename": "OperationalError",
     "evalue": "ambiguous column name: last",
     "output_type": "error",
     "traceback": [
      "\u001b[0;31m---------------------------------------------------------------------------\u001b[0m",
      "\u001b[0;31mOperationalError\u001b[0m                          Traceback (most recent call last)",
      "Input \u001b[0;32mIn [35]\u001b[0m, in \u001b[0;36m<cell line: 24>\u001b[0;34m()\u001b[0m\n\u001b[1;32m     21\u001b[0m query \u001b[38;5;241m=\u001b[39m query\u001b[38;5;241m.\u001b[39mreplace(\u001b[38;5;124m'\u001b[39m\u001b[38;5;124mWald\u001b[39m\u001b[38;5;124m'\u001b[39m, \u001b[38;5;124m'\u001b[39m\u001b[38;5;124mlast\u001b[39m\u001b[38;5;124m'\u001b[39m )\n\u001b[1;32m     23\u001b[0m \u001b[38;5;66;03m# Execute the query and retrieve the results\u001b[39;00m\n\u001b[0;32m---> 24\u001b[0m results \u001b[38;5;241m=\u001b[39m \u001b[43mconn\u001b[49m\u001b[38;5;241;43m.\u001b[39;49m\u001b[43mexecute\u001b[49m\u001b[43m(\u001b[49m\u001b[43mquery\u001b[49m\u001b[43m)\u001b[49m\n\u001b[1;32m     26\u001b[0m \u001b[38;5;66;03m# Loop through the results and print the book information\u001b[39;00m\n\u001b[1;32m     27\u001b[0m \u001b[38;5;28;01mfor\u001b[39;00m row \u001b[38;5;129;01min\u001b[39;00m results:\n",
      "\u001b[0;31mOperationalError\u001b[0m: ambiguous column name: last"
     ]
    }
   ],
   "source": [
    "#17.1 C\n",
    "# Import the necessary libraries\n",
    "import sqlite3\n",
    "\n",
    "# Connect to the database\n",
    "conn = sqlite3.connect('books.db')\n",
    "\n",
    "# Define the query\n",
    "query = '''\n",
    "SELECT titles.title, titles.copyright, titles.ISBN\n",
    "FROM titles\n",
    "INNER JOIN authors\n",
    "ON titles.ISBN = author_title.ISBN\n",
    "INNER JOIN authors\n",
    "ON authors.author_id = author_title.author_id\n",
    "WHERE last = 'last'\n",
    "ORDER BY titles.title ASC\n",
    "'''\n",
    "\n",
    "# Replace 'Authors Last' with the desired author's last name\n",
    "query = query.replace('Wald', 'last' )\n",
    "\n",
    "# Execute the query and retrieve the results\n",
    "results = conn.execute(query)\n",
    "\n",
    "# Loop through the results and print the book information\n",
    "for row in results:\n",
    "  print(f'Title: {row[0]}')\n",
    "  print(f'Copyright Year: {row[1]}')\n",
    "  print(f'ISBN: {row[2]}')\n",
    "\n",
    "# Close the connection to the database\n",
    "conn.close()\n",
    "\n",
    "\n",
    "\n",
    "\n",
    "#OperationalError: ambiguous column name: last"
   ]
  },
  {
   "cell_type": "code",
   "execution_count": 20,
   "id": "6e11cd10",
   "metadata": {},
   "outputs": [],
   "source": [
    "#17.1 D\n",
    "# Import the necessary libraries\n",
    "import sqlite3\n",
    "\n",
    "# Connect to the database\n",
    "conn = sqlite3.connect('books.db')\n",
    "\n",
    "# Define the query\n",
    "query = '''\n",
    "INSERT INTO authors\n",
    "VALUES (NULL, 'first', 'last')\n",
    "'''\n",
    "\n",
    "# Replace 'First_Name' and 'Last_Name' with the new author's first and last name\n",
    "query = query.replace('first', 'John')\n",
    "query = query.replace('last', 'Doe')\n",
    "\n",
    "# Execute the query\n",
    "conn.execute(query)\n",
    "\n",
    "# Save the changes to the database\n",
    "conn.commit()\n",
    "\n",
    "# Close the connection to the database\n",
    "conn.close()\n"
   ]
  },
  {
   "cell_type": "code",
   "execution_count": 41,
   "id": "a3a16655",
   "metadata": {},
   "outputs": [
    {
     "ename": "OperationalError",
     "evalue": "no such column: author_isbn",
     "output_type": "error",
     "traceback": [
      "\u001b[0;31m---------------------------------------------------------------------------\u001b[0m",
      "\u001b[0;31mOperationalError\u001b[0m                          Traceback (most recent call last)",
      "Input \u001b[0;32mIn [41]\u001b[0m, in \u001b[0;36m<cell line: 19>\u001b[0;34m()\u001b[0m\n\u001b[1;32m     16\u001b[0m query \u001b[38;5;241m=\u001b[39m query\u001b[38;5;241m.\u001b[39mreplace(\u001b[38;5;124m'\u001b[39m\u001b[38;5;124mTitle\u001b[39m\u001b[38;5;124m'\u001b[39m, \u001b[38;5;124m'\u001b[39m\u001b[38;5;124mThe Great Gatsby\u001b[39m\u001b[38;5;124m'\u001b[39m)\n\u001b[1;32m     18\u001b[0m \u001b[38;5;66;03m# Execute the query\u001b[39;00m\n\u001b[0;32m---> 19\u001b[0m \u001b[43mconn\u001b[49m\u001b[38;5;241;43m.\u001b[39;49m\u001b[43mexecute\u001b[49m\u001b[43m(\u001b[49m\u001b[43mquery\u001b[49m\u001b[43m)\u001b[49m\n\u001b[1;32m     21\u001b[0m \u001b[38;5;66;03m# Save the changes to the database\u001b[39;00m\n\u001b[1;32m     22\u001b[0m conn\u001b[38;5;241m.\u001b[39mcommit()\n",
      "\u001b[0;31mOperationalError\u001b[0m: no such column: author_isbn"
     ]
    }
   ],
   "source": [
    "#17.1 E\n",
    "# Import the necessary libraries\n",
    "import sqlite3\n",
    "\n",
    "# Connect to the database\n",
    "conn = sqlite3.connect('books.db')\n",
    "\n",
    "# Define the query\n",
    "query = '''\n",
    "INSERT INTO author_ISBN (id,isbn)\n",
    "VALUES (NULL, (SELECT author_isbn FROM authors WHERE last = 'Authors_last'), (SELECT ISBN FROM titles WHERE title = 'Title'))\n",
    "'''\n",
    "\n",
    "# Replace 'Author_Last' and 'Title' with the appropriate values\n",
    "query = query.replace('Authors_Last', 'Smith')\n",
    "query = query.replace('Title', 'The Great Gatsby')\n",
    "\n",
    "# Execute the query\n",
    "conn.execute(query)\n",
    "\n",
    "# Save the changes to the database\n",
    "conn.commit()\n",
    "\n",
    "# Close the connection to the database\n",
    "conn.close()\n",
    "\n",
    "\n",
    "\n",
    "#OperationalError: no such column: author_isbn\n"
   ]
  },
  {
   "cell_type": "code",
   "execution_count": null,
   "id": "65eb96eb",
   "metadata": {},
   "outputs": [],
   "source": []
  }
 ],
 "metadata": {
  "kernelspec": {
   "display_name": "Python 3 (ipykernel)",
   "language": "python",
   "name": "python3"
  },
  "language_info": {
   "codemirror_mode": {
    "name": "ipython",
    "version": 3
   },
   "file_extension": ".py",
   "mimetype": "text/x-python",
   "name": "python",
   "nbconvert_exporter": "python",
   "pygments_lexer": "ipython3",
   "version": "3.9.12"
  }
 },
 "nbformat": 4,
 "nbformat_minor": 5
}
